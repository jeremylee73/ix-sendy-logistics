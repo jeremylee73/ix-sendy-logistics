{
 "cells": [
  {
   "cell_type": "code",
   "execution_count": 6,
   "id": "197eb655",
   "metadata": {},
   "outputs": [
    {
     "name": "stdout",
     "output_type": "stream",
     "text": [
      "[     rider_id  no_of_orders   age  average_rating  no_of_ratings\n",
      "0         396          2946  2298            14.0           1159\n",
      "1         479           360   951            13.5            176\n",
      "2         648          1746   821            14.3            466\n",
      "3         753           314   980            12.5             75\n",
      "4         335           536  1113            13.7            156\n",
      "..        ...           ...   ...             ...            ...\n",
      "955       896           152    99            12.4             18\n",
      "956       149            69   101            10.2             10\n",
      "957       270           338    96            14.4             41\n",
      "958       201           159    96            15.0              9\n",
      "959       904           172   108            13.7             18\n",
      "\n",
      "[960 rows x 5 columns]]\n"
     ]
    }
   ],
   "source": [
    "# read pickle file\n",
    "\n",
    "import pickle\n",
    "\n",
    "pickle_file = open(\"clean-data/riders.pkl\", \"rb\")\n",
    "objects = []\n",
    "while True:\n",
    "    try:\n",
    "        objects.append(pickle.load(pickle_file))\n",
    "    except EOFError:\n",
    "        break\n",
    "pickle_file.close()\n",
    "\n",
    "print(objects)"
   ]
  }
 ],
 "metadata": {
  "kernelspec": {
   "display_name": "Python 3",
   "language": "python",
   "name": "python3"
  },
  "language_info": {
   "codemirror_mode": {
    "name": "ipython",
    "version": 3
   },
   "file_extension": ".py",
   "mimetype": "text/x-python",
   "name": "python",
   "nbconvert_exporter": "python",
   "pygments_lexer": "ipython3",
   "version": "3.8.8"
  }
 },
 "nbformat": 4,
 "nbformat_minor": 5
}
